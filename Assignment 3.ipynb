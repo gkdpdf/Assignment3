{
 "cells": [
  {
   "cell_type": "code",
   "execution_count": 4,
   "id": "078c96b9-de2f-4ca6-9a92-3a6265955eed",
   "metadata": {},
   "outputs": [
    {
     "data": {
      "text/plain": [
       "[1, 3, 5, 7, 9, 11, 13, 15, 17, 19, 21, 23]"
      ]
     },
     "execution_count": 4,
     "metadata": {},
     "output_type": "execute_result"
    }
   ],
   "source": [
    "##1\n",
    "\"def\"\n",
    "def oddn(n):\n",
    "    l2=[]\n",
    "    for i in n:\n",
    "        if i%2!=0:\n",
    "            l2.append(i)\n",
    "    return l2\n",
    "oddn(range(25))"
   ]
  },
  {
   "cell_type": "code",
   "execution_count": 7,
   "id": "228c8edb-5972-4328-9162-5ed159e573dc",
   "metadata": {},
   "outputs": [
    {
     "data": {
      "text/plain": [
       "'**kwargs is used to define n key value parameters in functions'"
      ]
     },
     "execution_count": 7,
     "metadata": {},
     "output_type": "execute_result"
    }
   ],
   "source": [
    "##2 \n",
    "\"*args is used to define n parameters in functions\"\n",
    "\"**kwargs is used to define n key value parameters in functions\""
   ]
  },
  {
   "cell_type": "code",
   "execution_count": 9,
   "id": "bfcd5fa8-db22-4d43-aa27-7bbdebb31c95",
   "metadata": {},
   "outputs": [],
   "source": [
    "def  test(*args):\n",
    "    return args"
   ]
  },
  {
   "cell_type": "code",
   "execution_count": 10,
   "id": "6a1626dc-a708-46ff-bd4c-5b38e2eff70b",
   "metadata": {},
   "outputs": [
    {
     "data": {
      "text/plain": [
       "(4, 5, 6)"
      ]
     },
     "execution_count": 10,
     "metadata": {},
     "output_type": "execute_result"
    }
   ],
   "source": [
    "test(4,5,6)"
   ]
  },
  {
   "cell_type": "code",
   "execution_count": 11,
   "id": "4a6ef818-9901-47a8-8bb8-2e30244e726f",
   "metadata": {},
   "outputs": [
    {
     "data": {
      "text/plain": [
       "(3,)"
      ]
     },
     "execution_count": 11,
     "metadata": {},
     "output_type": "execute_result"
    }
   ],
   "source": [
    "test(3)"
   ]
  },
  {
   "cell_type": "code",
   "execution_count": 12,
   "id": "46971232-8626-4d34-8cbe-418e64703b86",
   "metadata": {},
   "outputs": [],
   "source": [
    "def test1(**kwargs):\n",
    "    return kwargs"
   ]
  },
  {
   "cell_type": "code",
   "execution_count": 13,
   "id": "2a4b97bd-890d-459c-8ee4-1745edba87ac",
   "metadata": {},
   "outputs": [
    {
     "data": {
      "text/plain": [
       "{'a': 'nn', 'b': 'cc'}"
      ]
     },
     "execution_count": 13,
     "metadata": {},
     "output_type": "execute_result"
    }
   ],
   "source": [
    "test1(a=\"nn\",b=\"cc\")"
   ]
  },
  {
   "cell_type": "code",
   "execution_count": 14,
   "id": "ff0e6cd1-4207-418b-ab6a-ddfad1dba7a7",
   "metadata": {},
   "outputs": [
    {
     "data": {
      "text/plain": [
       "'iterator is used to define the functions running for sequence over time for whole list or iteraable object'"
      ]
     },
     "execution_count": 14,
     "metadata": {},
     "output_type": "execute_result"
    }
   ],
   "source": [
    "##3\n",
    "\"iterator is used to define the functions running for sequence over time for whole list or iteraable object\""
   ]
  },
  {
   "cell_type": "code",
   "execution_count": 21,
   "id": "f729a7da-7ff0-4117-828c-4e80a7b51c4c",
   "metadata": {},
   "outputs": [],
   "source": [
    "l=\"sudh\"\n",
    "a=iter(l)"
   ]
  },
  {
   "cell_type": "code",
   "execution_count": 22,
   "id": "fac4856b-9371-4253-b8b3-81777247aa93",
   "metadata": {},
   "outputs": [
    {
     "data": {
      "text/plain": [
       "'s'"
      ]
     },
     "execution_count": 22,
     "metadata": {},
     "output_type": "execute_result"
    }
   ],
   "source": [
    "next(a)"
   ]
  },
  {
   "cell_type": "code",
   "execution_count": 23,
   "id": "ed886d50-b1c6-457b-beb9-37de9ed53808",
   "metadata": {},
   "outputs": [],
   "source": [
    "l=[2,4,6,8,10,12,14,16,18,20]"
   ]
  },
  {
   "cell_type": "code",
   "execution_count": 25,
   "id": "6e5bce3b-f4a6-43b6-b877-b921d3f19901",
   "metadata": {},
   "outputs": [],
   "source": [
    "a=iter(l)"
   ]
  },
  {
   "cell_type": "code",
   "execution_count": 27,
   "id": "2118a324-f924-4e73-b17b-515bef735671",
   "metadata": {},
   "outputs": [
    {
     "data": {
      "text/plain": [
       "2"
      ]
     },
     "execution_count": 27,
     "metadata": {},
     "output_type": "execute_result"
    }
   ],
   "source": [
    "next(a)"
   ]
  },
  {
   "cell_type": "code",
   "execution_count": 28,
   "id": "45db1b6f-4e28-49c2-b2f9-6981c6dc1bfa",
   "metadata": {},
   "outputs": [
    {
     "data": {
      "text/plain": [
       "4"
      ]
     },
     "execution_count": 28,
     "metadata": {},
     "output_type": "execute_result"
    }
   ],
   "source": [
    "next(a)"
   ]
  },
  {
   "cell_type": "code",
   "execution_count": 29,
   "id": "413c231a-e07d-4905-bf11-20cb38424674",
   "metadata": {},
   "outputs": [
    {
     "data": {
      "text/plain": [
       "6"
      ]
     },
     "execution_count": 29,
     "metadata": {},
     "output_type": "execute_result"
    }
   ],
   "source": [
    "next(a)"
   ]
  },
  {
   "cell_type": "code",
   "execution_count": 30,
   "id": "cc460c2e-002c-4edf-b936-7d4353c220e4",
   "metadata": {},
   "outputs": [
    {
     "data": {
      "text/plain": [
       "8"
      ]
     },
     "execution_count": 30,
     "metadata": {},
     "output_type": "execute_result"
    }
   ],
   "source": [
    "next(a)"
   ]
  },
  {
   "cell_type": "code",
   "execution_count": 31,
   "id": "2e9a6608-af0d-440c-a0cc-73517f715cd2",
   "metadata": {},
   "outputs": [
    {
     "data": {
      "text/plain": [
       "10"
      ]
     },
     "execution_count": 31,
     "metadata": {},
     "output_type": "execute_result"
    }
   ],
   "source": [
    "next(a)"
   ]
  },
  {
   "cell_type": "code",
   "execution_count": 32,
   "id": "a87ea7a2-4cb4-44e6-8e46-a0282aa7cc79",
   "metadata": {},
   "outputs": [
    {
     "data": {
      "text/plain": [
       "'Generator functions are used to have yield statmenet and no need to import complete list it will generate one value at a one time of the iterable object'"
      ]
     },
     "execution_count": 32,
     "metadata": {},
     "output_type": "execute_result"
    }
   ],
   "source": [
    "##4\n",
    "\"Generator functions are used to have yield statmenet and no need to import complete list it will generate one value at a one time of the iterable object\""
   ]
  },
  {
   "cell_type": "code",
   "execution_count": 33,
   "id": "5e16e9a2-a542-4346-9a68-84c02a7c091c",
   "metadata": {},
   "outputs": [
    {
     "data": {
      "text/plain": [
       "'Yield keyword is used to take value at one tiem'"
      ]
     },
     "execution_count": 33,
     "metadata": {},
     "output_type": "execute_result"
    }
   ],
   "source": [
    "\"Yield keyword is used to take value at one tiem\""
   ]
  },
  {
   "cell_type": "code",
   "execution_count": 36,
   "id": "0d811f0d-ca3e-4158-97b3-46d88801ea74",
   "metadata": {},
   "outputs": [],
   "source": [
    "def test11(a):\n",
    "    for i in a:\n",
    "        yield i\n",
    "        "
   ]
  },
  {
   "cell_type": "code",
   "execution_count": 38,
   "id": "3970accb-a0e8-4889-a265-6eb28973ee8d",
   "metadata": {},
   "outputs": [],
   "source": [
    "def fib(limit):  \n",
    "    a, b = 0, 1\n",
    "    while a < limit:\n",
    "        yield a\n",
    "        a, b = b, a + b\n"
   ]
  },
  {
   "cell_type": "code",
   "execution_count": 39,
   "id": "a1b959ce-4e80-4d46-8645-0fc6a0c646db",
   "metadata": {},
   "outputs": [],
   "source": [
    "x = fib(5)"
   ]
  },
  {
   "cell_type": "code",
   "execution_count": 40,
   "id": "7d67c8d4-dc5a-48f8-8ca1-e912ad24a5a8",
   "metadata": {},
   "outputs": [
    {
     "name": "stdout",
     "output_type": "stream",
     "text": [
      "0\n",
      "1\n",
      "1\n",
      "2\n",
      "3\n"
     ]
    }
   ],
   "source": [
    "for i in x:\n",
    "    print(i)"
   ]
  },
  {
   "cell_type": "code",
   "execution_count": 58,
   "id": "c4d2edab-8d34-4c09-9f64-72271a2cd108",
   "metadata": {},
   "outputs": [],
   "source": [
    "##5\n",
    "def getPrimes(n):\n",
    "    i = 2\n",
    "    while i < n :\n",
    "        prime = True\n",
    "        for a in range(2, i):\n",
    "            if i%a == 0:\n",
    "                prime = False\n",
    "                break\n",
    "        if prime:    \n",
    "            yield i\n",
    "        i += 1 "
   ]
  },
  {
   "cell_type": "code",
   "execution_count": 62,
   "id": "02cd6263-e91a-4973-aef3-6908ab4db759",
   "metadata": {},
   "outputs": [],
   "source": [
    "a=getPrimes(100)"
   ]
  },
  {
   "cell_type": "code",
   "execution_count": 63,
   "id": "b5ed6463-0aad-4477-87e7-770b51d207cd",
   "metadata": {},
   "outputs": [
    {
     "data": {
      "text/plain": [
       "2"
      ]
     },
     "execution_count": 63,
     "metadata": {},
     "output_type": "execute_result"
    }
   ],
   "source": [
    "next(a)"
   ]
  },
  {
   "cell_type": "code",
   "execution_count": 64,
   "id": "3279a10d-2dc8-4372-84c1-a3ca12db005a",
   "metadata": {},
   "outputs": [
    {
     "data": {
      "text/plain": [
       "3"
      ]
     },
     "execution_count": 64,
     "metadata": {},
     "output_type": "execute_result"
    }
   ],
   "source": [
    "next(a)"
   ]
  },
  {
   "cell_type": "code",
   "execution_count": 65,
   "id": "3bd9d4d2-b400-4c71-9656-a4f66c618884",
   "metadata": {},
   "outputs": [
    {
     "data": {
      "text/plain": [
       "5"
      ]
     },
     "execution_count": 65,
     "metadata": {},
     "output_type": "execute_result"
    }
   ],
   "source": [
    "next(a)"
   ]
  },
  {
   "cell_type": "code",
   "execution_count": 66,
   "id": "353e2d8c-1f47-4c50-8e3c-478fb4f0cafa",
   "metadata": {},
   "outputs": [
    {
     "data": {
      "text/plain": [
       "7"
      ]
     },
     "execution_count": 66,
     "metadata": {},
     "output_type": "execute_result"
    }
   ],
   "source": [
    "next(a)"
   ]
  },
  {
   "cell_type": "code",
   "execution_count": 67,
   "id": "621e35e7-d45a-488a-bdb8-e4b1cc33dcf6",
   "metadata": {},
   "outputs": [
    {
     "data": {
      "text/plain": [
       "11"
      ]
     },
     "execution_count": 67,
     "metadata": {},
     "output_type": "execute_result"
    }
   ],
   "source": [
    "next(a)"
   ]
  },
  {
   "cell_type": "code",
   "execution_count": 68,
   "id": "07f442da-f43b-479c-b9db-3d7268c15fa5",
   "metadata": {},
   "outputs": [
    {
     "data": {
      "text/plain": [
       "13"
      ]
     },
     "execution_count": 68,
     "metadata": {},
     "output_type": "execute_result"
    }
   ],
   "source": [
    "next(a)"
   ]
  },
  {
   "cell_type": "code",
   "execution_count": 69,
   "id": "e122e303-1f46-466b-92de-a4f67725552b",
   "metadata": {},
   "outputs": [
    {
     "data": {
      "text/plain": [
       "17"
      ]
     },
     "execution_count": 69,
     "metadata": {},
     "output_type": "execute_result"
    }
   ],
   "source": [
    "next(a)"
   ]
  },
  {
   "cell_type": "code",
   "execution_count": 70,
   "id": "07670552-c9f1-4f6c-af5b-d70071c8acf3",
   "metadata": {},
   "outputs": [
    {
     "data": {
      "text/plain": [
       "19"
      ]
     },
     "execution_count": 70,
     "metadata": {},
     "output_type": "execute_result"
    }
   ],
   "source": [
    "next(a)"
   ]
  },
  {
   "cell_type": "code",
   "execution_count": 71,
   "id": "d3c207e4-06d4-463e-bad7-db4ff4d4befd",
   "metadata": {},
   "outputs": [
    {
     "data": {
      "text/plain": [
       "23"
      ]
     },
     "execution_count": 71,
     "metadata": {},
     "output_type": "execute_result"
    }
   ],
   "source": [
    "next(a)"
   ]
  },
  {
   "cell_type": "code",
   "execution_count": 72,
   "id": "efb053b7-90ee-4b75-adfb-8ce1788f4c91",
   "metadata": {},
   "outputs": [
    {
     "data": {
      "text/plain": [
       "29"
      ]
     },
     "execution_count": 72,
     "metadata": {},
     "output_type": "execute_result"
    }
   ],
   "source": [
    "next(a)"
   ]
  },
  {
   "cell_type": "code",
   "execution_count": 73,
   "id": "0b1b4fcc-f0ce-4be2-a04a-e5165732ba3b",
   "metadata": {},
   "outputs": [
    {
     "data": {
      "text/plain": [
       "31"
      ]
     },
     "execution_count": 73,
     "metadata": {},
     "output_type": "execute_result"
    }
   ],
   "source": [
    "next(a)"
   ]
  },
  {
   "cell_type": "code",
   "execution_count": 74,
   "id": "2a7f66a2-e225-486e-bfe5-2d142bc63ee3",
   "metadata": {},
   "outputs": [
    {
     "data": {
      "text/plain": [
       "37"
      ]
     },
     "execution_count": 74,
     "metadata": {},
     "output_type": "execute_result"
    }
   ],
   "source": [
    "next(a)"
   ]
  },
  {
   "cell_type": "code",
   "execution_count": 75,
   "id": "e5e24298-701c-42c8-9bd5-ede4fdb6e23b",
   "metadata": {},
   "outputs": [
    {
     "data": {
      "text/plain": [
       "41"
      ]
     },
     "execution_count": 75,
     "metadata": {},
     "output_type": "execute_result"
    }
   ],
   "source": [
    "next(a)"
   ]
  },
  {
   "cell_type": "code",
   "execution_count": 76,
   "id": "66b7381f-d2b5-4368-9526-c73e01fceb7e",
   "metadata": {},
   "outputs": [
    {
     "data": {
      "text/plain": [
       "43"
      ]
     },
     "execution_count": 76,
     "metadata": {},
     "output_type": "execute_result"
    }
   ],
   "source": [
    "next(a)"
   ]
  },
  {
   "cell_type": "code",
   "execution_count": 77,
   "id": "dc72ab5a-6222-460d-b3b5-030b71539d3f",
   "metadata": {},
   "outputs": [
    {
     "data": {
      "text/plain": [
       "47"
      ]
     },
     "execution_count": 77,
     "metadata": {},
     "output_type": "execute_result"
    }
   ],
   "source": [
    "next(a)"
   ]
  },
  {
   "cell_type": "code",
   "execution_count": 78,
   "id": "820a9eeb-95a1-45f3-9dec-2ead63a39dfd",
   "metadata": {},
   "outputs": [
    {
     "data": {
      "text/plain": [
       "53"
      ]
     },
     "execution_count": 78,
     "metadata": {},
     "output_type": "execute_result"
    }
   ],
   "source": [
    "next(a)"
   ]
  },
  {
   "cell_type": "code",
   "execution_count": 79,
   "id": "428efab8-97e8-4dd1-9d35-923a7fa6a01a",
   "metadata": {},
   "outputs": [
    {
     "data": {
      "text/plain": [
       "59"
      ]
     },
     "execution_count": 79,
     "metadata": {},
     "output_type": "execute_result"
    }
   ],
   "source": [
    "next(a)"
   ]
  },
  {
   "cell_type": "code",
   "execution_count": 80,
   "id": "17eb0a94-b9de-42a8-a9c9-60471b719177",
   "metadata": {},
   "outputs": [
    {
     "data": {
      "text/plain": [
       "61"
      ]
     },
     "execution_count": 80,
     "metadata": {},
     "output_type": "execute_result"
    }
   ],
   "source": [
    "next(a)"
   ]
  },
  {
   "cell_type": "code",
   "execution_count": 91,
   "id": "0bbdda85-9c5c-4274-a846-74d8288997d1",
   "metadata": {},
   "outputs": [],
   "source": [
    "##6 Write a python program to print the first 10 Fibonacci numbers using a while loop\n",
    "def fibnumber(n):\n",
    "    a=0\n",
    "    b=1\n",
    "    for i in range(n):\n",
    "        yield a\n",
    "        a,b=b,a+b"
   ]
  },
  {
   "cell_type": "code",
   "execution_count": 92,
   "id": "50fe4c18-0429-43fa-9dfb-feff39e64916",
   "metadata": {},
   "outputs": [],
   "source": [
    "x=fibnumber(10)"
   ]
  },
  {
   "cell_type": "code",
   "execution_count": 93,
   "id": "1e71f406-40a4-4021-a6fb-3f5d2f301b22",
   "metadata": {},
   "outputs": [
    {
     "name": "stdout",
     "output_type": "stream",
     "text": [
      "0\n",
      "1\n",
      "1\n",
      "2\n",
      "3\n",
      "5\n",
      "8\n",
      "13\n",
      "21\n",
      "34\n"
     ]
    }
   ],
   "source": [
    "for i in x:\n",
    "    print(i)"
   ]
  },
  {
   "cell_type": "code",
   "execution_count": 94,
   "id": "80589f74-5668-4c1f-b12c-607344062bb5",
   "metadata": {},
   "outputs": [],
   "source": [
    "##7 Write a List Comprehension to iterate through the given string: ‘pwskills’.\n",
    "###Expected output: ['p', 'w', 's', 'k', 'i', 'l', 'l', 's']"
   ]
  },
  {
   "cell_type": "code",
   "execution_count": 95,
   "id": "2fa7ff07-0a2f-4590-8b2f-59a86f875365",
   "metadata": {},
   "outputs": [
    {
     "data": {
      "text/plain": [
       "['p', 'w', 's', 'k', 'i', 'l', 'l', 's']"
      ]
     },
     "execution_count": 95,
     "metadata": {},
     "output_type": "execute_result"
    }
   ],
   "source": [
    "s=\"pwskills\"\n",
    "[i for i in s]"
   ]
  },
  {
   "cell_type": "code",
   "execution_count": 96,
   "id": "0f7746c5-6e4b-472a-b3d2-6d3086706376",
   "metadata": {},
   "outputs": [],
   "source": [
    "##Q8. Write a python program to check whether a given number is Palindrome or not using a while loop."
   ]
  },
  {
   "cell_type": "code",
   "execution_count": 104,
   "id": "99f6763b-d9fe-45fc-802d-9418c61ed9f0",
   "metadata": {},
   "outputs": [
    {
     "name": "stdin",
     "output_type": "stream",
     "text": [
      "Enter number: 1234\n"
     ]
    },
    {
     "name": "stdout",
     "output_type": "stream",
     "text": [
      "The number isn't a palindrome!\n"
     ]
    }
   ],
   "source": [
    "n=int(input(\"Enter number:\"))\n",
    "temp=n\n",
    "rev=0\n",
    "while(n>0):\n",
    "    dig=n%10\n",
    "    rev=rev*10+dig\n",
    "    n=n//10\n",
    "if(temp==rev):\n",
    "    print(\"The number is a palindrome!\")\n",
    "else:\n",
    "    print(\"The number isn't a palindrome!\")"
   ]
  },
  {
   "cell_type": "code",
   "execution_count": 116,
   "id": "009c662f-80b1-428b-bf56-a8db4273b3d0",
   "metadata": {},
   "outputs": [],
   "source": [
    "##9 Write a code to print odd numbers from 1 to 100 using list comprehension.\n",
    "a=[x for x in range(100)]"
   ]
  },
  {
   "cell_type": "code",
   "execution_count": 111,
   "id": "919bc4be-c6e6-45e9-8152-33549c4b6b48",
   "metadata": {},
   "outputs": [
    {
     "name": "stdout",
     "output_type": "stream",
     "text": [
      "[0, 1, 2, 3, 4, 5, 6, 7, 8, 9, 10, 11, 12, 13, 14, 15, 16, 17, 18, 19, 20, 21, 22, 23, 24, 25, 26, 27, 28, 29, 30, 31, 32, 33, 34, 35, 36, 37, 38, 39, 40, 41, 42, 43, 44, 45, 46, 47, 48, 49, 50, 51, 52, 53, 54, 55, 56, 57, 58, 59, 60, 61, 62, 63, 64, 65, 66, 67, 68, 69, 70, 71, 72, 73, 74, 75, 76, 77, 78, 79, 80, 81, 82, 83, 84, 85, 86, 87, 88, 89, 90, 91, 92, 93, 94, 95, 96, 97, 98, 99]\n"
     ]
    }
   ],
   "source": [
    "print(a)"
   ]
  },
  {
   "cell_type": "code",
   "execution_count": 117,
   "id": "d344bf3e-1ecd-4392-a65f-d3f1e4438cab",
   "metadata": {},
   "outputs": [
    {
     "name": "stdout",
     "output_type": "stream",
     "text": [
      "[1, 3, 5, 7, 9, 11, 13, 15, 17, 19, 21, 23, 25, 27, 29, 31, 33, 35, 37, 39, 41, 43, 45, 47, 49, 51, 53, 55, 57, 59, 61, 63, 65, 67, 69, 71, 73, 75, 77, 79, 81, 83, 85, 87, 89, 91, 93, 95, 97, 99]\n"
     ]
    }
   ],
   "source": [
    "print(list(filter(lambda a : a%2!=0,a)))"
   ]
  },
  {
   "cell_type": "code",
   "execution_count": null,
   "id": "732d835f-b5c1-4560-83f7-dd48051f8b1f",
   "metadata": {},
   "outputs": [],
   "source": []
  }
 ],
 "metadata": {
  "kernelspec": {
   "display_name": "Python 3 (ipykernel)",
   "language": "python",
   "name": "python3"
  },
  "language_info": {
   "codemirror_mode": {
    "name": "ipython",
    "version": 3
   },
   "file_extension": ".py",
   "mimetype": "text/x-python",
   "name": "python",
   "nbconvert_exporter": "python",
   "pygments_lexer": "ipython3",
   "version": "3.10.8"
  }
 },
 "nbformat": 4,
 "nbformat_minor": 5
}
